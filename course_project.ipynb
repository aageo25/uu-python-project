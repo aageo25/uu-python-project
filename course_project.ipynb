{
 "cells": [
  {
   "cell_type": "markdown",
   "metadata": {},
   "source": [
    "# Jupyter notebook for the course project\n",
    "\n",
    "In this notebook, I will exemplify the use of some functions and modules. \n",
    "\n",
    "The modules were developed as a tool to extract data from the outputs created by VASP (Vienna Ab-initio Simulation Package), and to create a database in the ASE format (Atomic Simulation Environment, see https://wiki.fysik.dtu.dk/ase/ase/db/db.html ).\n",
    "\n",
    "The code follows the PEP8 for syntax and PEP257 for documentation.\n",
    "\n",
    "### Modules and functions\n",
    "\n",
    "Stored in the folder named \"MyPythonLibs\"\n",
    "\n",
    "The required python modules are:\n",
    "* numpy\n",
    "* ase\n",
    "* pymatgen"
   ]
  },
  {
   "cell_type": "markdown",
   "metadata": {},
   "source": [
    "### Required modules to import"
   ]
  },
  {
   "cell_type": "code",
   "execution_count": 1,
   "metadata": {},
   "outputs": [],
   "source": [
    "import sys\n",
    "import os\n",
    "import re\n",
    "import platform\n",
    "import notebook\n",
    "import ase\n",
    "import ase.db\n",
    "import numpy as np"
   ]
  },
  {
   "cell_type": "markdown",
   "metadata": {},
   "source": [
    "### Specific functions"
   ]
  },
  {
   "cell_type": "code",
   "execution_count": 2,
   "metadata": {},
   "outputs": [],
   "source": [
    "from ase import db\n",
    "from ageo import dbtools, vasptools "
   ]
  },
  {
   "cell_type": "code",
   "execution_count": 3,
   "metadata": {},
   "outputs": [
    {
     "name": "stdout",
     "output_type": "stream",
     "text": [
      "Help on module ageo.dbtools in ageo:\n",
      "\n",
      "NAME\n",
      "    ageo.dbtools\n",
      "\n",
      "FILE\n",
      "    /home/ageo/MyPythonLibs/ageo/dbtools.py\n",
      "\n",
      "FUNCTIONS\n",
      "    add_vasp_structure(dbname, folder)\n",
      "        Add a VASP structure into a database.\n",
      "        \n",
      "        Keyword arguments:\n",
      "        dbname -- database filename\n",
      "        folder -- path with VASP outputs\n",
      "    \n",
      "    db_read_row(dbname, id)\n",
      "        Reads a specific row in a ASE database.\n",
      "        \n",
      "        Keyword arguments:\n",
      "        dbname -- database name.\n",
      "        id -- id number of the row to read.\n",
      "\n",
      "\n"
     ]
    }
   ],
   "source": [
    "help(dbtools)"
   ]
  },
  {
   "cell_type": "code",
   "execution_count": 4,
   "metadata": {},
   "outputs": [
    {
     "name": "stdout",
     "output_type": "stream",
     "text": [
      "Help on module ageo.vasptools in ageo:\n",
      "\n",
      "NAME\n",
      "    ageo.vasptools\n",
      "\n",
      "FILE\n",
      "    /home/ageo/MyPythonLibs/ageo/vasptools.py\n",
      "\n",
      "FUNCTIONS\n",
      "    d_center(slab_xml, vac_pot_slab, fermi_slab)\n",
      "        Calculate the d-band center of a structure\n",
      "        \n",
      "        Keyword arguments:\n",
      "        slab_xml -- parsed vasprun.xml to be analysed.\n",
      "        vac_pot_slab -- vacuum potential of the slab, or the Fermi energy of the\n",
      "        slab.\n",
      "        fermi_slab -- fermi energy extracted from vasprun.xml.\n",
      "    \n",
      "    e_ads(n_ads, et_surf_ads, et_surf, et_ads)\n",
      "        \"Calculate the adsorption energy per atom.\n",
      "        \n",
      "        Keyword arguments:\n",
      "        n_ads -- number of adsorbates in the supercell.\n",
      "        et_surf_ads -- total energy of the system containing the surface and\n",
      "        the adsorbate.\n",
      "        et_surf -- total energy of the system containing the clean slab.\n",
      "        et_ads -- total energy of one atom/molecule of the adsorbate.\n",
      "    \n",
      "    e_coh(e_bulk, e_atom, n_atom_bulk)\n",
      "        Calculate the cohesive energy of a bulk material.\n",
      "        \n",
      "        Keyword arguments:\n",
      "        e_bulk -- total energy of the bulk structure.\n",
      "        e_atom -- total energy of a isolated atom.\n",
      "        n_atom_bulk -- number of atoms in the bulk.\n",
      "    \n",
      "    e_surf_form(e_t_surf, e_t_bulk, n_atoms_surf, n_atoms_bulk, area)\n",
      "        Calculate the surface formation energy per area of the surface.\n",
      "        \n",
      "        Keyword arguments:\n",
      "        e_t_surf -- total energy of the surface slab.\n",
      "        e_t_tbulk -- total energy of the bulk.\n",
      "        n_atoms_surf -- number fo atoms in the slab unit cell.\n",
      "        n_atoms bulk -- number of atoms in a bulk unit cell.\n",
      "        area -- area of the slab.\n",
      "    \n",
      "    read_vasprun(data)\n",
      "        Read the file vasprun.xml for further analysis using pymatgen\n",
      "    \n",
      "    wf(vac_pot, e_fermi)\n",
      "        Calculate the work function\n",
      "\n",
      "\n"
     ]
    }
   ],
   "source": [
    "help(vasptools)"
   ]
  },
  {
   "cell_type": "markdown",
   "metadata": {},
   "source": [
    "### Creating an ASE database"
   ]
  },
  {
   "cell_type": "code",
   "execution_count": 5,
   "metadata": {},
   "outputs": [],
   "source": [
    "# The database name\n",
    "dbname= \"project.db\"\n",
    "\n",
    "# Make sure always have a new database when the first element is added\n",
    "try:\n",
    "    os.remove(dbname)\n",
    "except:\n",
    "    print()"
   ]
  },
  {
   "cell_type": "markdown",
   "metadata": {},
   "source": [
    "### Add VASP structure to the database\n",
    "\n",
    "Note that you have to specify the full path in order to locate this file in yor machine"
   ]
  },
  {
   "cell_type": "code",
   "execution_count": 6,
   "metadata": {},
   "outputs": [
    {
     "name": "stdout",
     "output_type": "stream",
     "text": [
      "('Structure added with id:', 1)\n"
     ]
    }
   ],
   "source": [
    "# Isolated Ni atom\n",
    "row_id = dbtools.add_vasp_structure(dbname, \"/home/ageo/Documents/PhD_Documents/Courses/Adv_Sci_Python/Project/new_project/examples/Ni_atom/\")"
   ]
  },
  {
   "cell_type": "code",
   "execution_count": 7,
   "metadata": {},
   "outputs": [
    {
     "name": "stdout",
     "output_type": "stream",
     "text": [
      "('Structure added with id:', 2)\n",
      "('Structure added with id:', 3)\n"
     ]
    }
   ],
   "source": [
    "# Ni bulk\n",
    "row_id = dbtools.add_vasp_structure(dbname, \"/home/ageo/Documents/PhD_Documents/Courses/Adv_Sci_Python/Project/new_project/examples/Ni_bulk/\")\n",
    "\n",
    "# Ni slab 100\n",
    "row_id = dbtools.add_vasp_structure(dbname, \"/home/ageo/Documents/PhD_Documents/Courses/Adv_Sci_Python/Project/new_project/examples/Ni_slab_100/\")"
   ]
  },
  {
   "cell_type": "markdown",
   "metadata": {},
   "source": [
    "### Reading the atoms object from the database"
   ]
  },
  {
   "cell_type": "code",
   "execution_count": 8,
   "metadata": {},
   "outputs": [],
   "source": [
    "Ni_atom = dbtools.db_read_row(dbname,1)\n",
    "Ni_bulk = dbtools.db_read_row(dbname,2)\n",
    "Ni_slab_100 = dbtools.db_read_row(dbname,3)"
   ]
  },
  {
   "cell_type": "markdown",
   "metadata": {},
   "source": [
    "### Reading VASP xml files\n",
    "Note that you have to specify the full path in order to locate this file in yor machine"
   ]
  },
  {
   "cell_type": "code",
   "execution_count": 9,
   "metadata": {},
   "outputs": [
    {
     "name": "stderr",
     "output_type": "stream",
     "text": [
      "/home/ageo/.local/lib/python2.7/site-packages/pymatgen/__init__.py:87: UserWarning: \n",
      "Pymatgen will drop Py2k support from v2019.1.1. Pls consult the documentation\n",
      "at https://www.pymatgen.org for more details.\n",
      "  at https://www.pymatgen.org for more details.\"\"\")\n"
     ]
    },
    {
     "name": "stdout",
     "output_type": "stream",
     "text": [
      "<pymatgen.io.vasp.outputs.Vasprun object at 0x7ff9938d2b50>\n",
      "<pymatgen.io.vasp.outputs.Vasprun object at 0x7ff99a46c910>\n",
      "<pymatgen.io.vasp.outputs.Vasprun object at 0x7ff9f9622fd0>\n"
     ]
    },
    {
     "name": "stderr",
     "output_type": "stream",
     "text": [
      "/home/ageo/.local/lib/python2.7/site-packages/pymatgen/io/vasp/outputs.py:154: UserWarning: Float overflow (*******) encountered in vasprun\n",
      "  warnings.warn('Float overflow (*******) encountered in vasprun')\n",
      "/home/ageo/.local/lib/python2.7/site-packages/pymatgen/io/vasp/outputs.py:877: UserWarning: No POTCAR file with matching TITEL fields was found in /home/ageo/Documents/PhD_Documents/Courses/Adv_Sci_Python/Project/new_project/examples/Ni_slab_100\n",
      "  \" was found in {}\".format(os.path.abspath(p)))\n"
     ]
    }
   ],
   "source": [
    "Ni_atom_xml = vasptools.read_vasprun(\"/home/ageo/Documents/PhD_Documents/Courses/Adv_Sci_Python/Project/new_project/examples/Ni_atom/vasprun.xml\")\n",
    "Ni_bulk_xml = vasptools.read_vasprun(\"/home/ageo/Documents/PhD_Documents/Courses/Adv_Sci_Python/Project/new_project/examples/Ni_bulk/vasprun.xml\")\n",
    "Ni_slab_100_xml = vasptools.read_vasprun(\"/home/ageo/Documents/PhD_Documents/Courses/Adv_Sci_Python/Project/new_project/examples/Ni_slab_100/vasprun.xml\")"
   ]
  },
  {
   "cell_type": "markdown",
   "metadata": {},
   "source": [
    "### Using ASE database and atoms object to extract information for further analisys"
   ]
  },
  {
   "cell_type": "markdown",
   "metadata": {},
   "source": [
    "#### Total energy"
   ]
  },
  {
   "cell_type": "code",
   "execution_count": 10,
   "metadata": {},
   "outputs": [],
   "source": [
    "Ni_atom_E = Ni_atom.get_total_energy()\n",
    "\n",
    "Ni_bulk_E = Ni_bulk.get_total_energy()\n",
    "\n",
    "Ni_slab_100_E = Ni_slab_100.get_total_energy()"
   ]
  },
  {
   "cell_type": "markdown",
   "metadata": {},
   "source": [
    "#### Number of atoms"
   ]
  },
  {
   "cell_type": "code",
   "execution_count": 11,
   "metadata": {},
   "outputs": [],
   "source": [
    "Ni_atom_n = Ni_atom.get_number_of_atoms()\n",
    "\n",
    "Ni_bulk_n = Ni_bulk.get_number_of_atoms()\n",
    "\n",
    "Ni_slab_100_n = Ni_slab_100.get_number_of_atoms()"
   ]
  },
  {
   "cell_type": "markdown",
   "metadata": {},
   "source": [
    "### Calculating some properties using a combination of pymatgen and my own module \"vasptools\""
   ]
  },
  {
   "cell_type": "markdown",
   "metadata": {},
   "source": [
    "#### Bulk cohesive energy"
   ]
  },
  {
   "cell_type": "code",
   "execution_count": 12,
   "metadata": {},
   "outputs": [
    {
     "name": "stdout",
     "output_type": "stream",
     "text": [
      "Help on function e_coh in module ageo.vasptools:\n",
      "\n",
      "e_coh(e_bulk, e_atom, n_atom_bulk)\n",
      "    Calculate the cohesive energy of a bulk material.\n",
      "    \n",
      "    Keyword arguments:\n",
      "    e_bulk -- total energy of the bulk structure.\n",
      "    e_atom -- total energy of a isolated atom.\n",
      "    n_atom_bulk -- number of atoms in the bulk.\n",
      "\n"
     ]
    }
   ],
   "source": [
    "help(vasptools.e_coh)"
   ]
  },
  {
   "cell_type": "code",
   "execution_count": 13,
   "metadata": {},
   "outputs": [],
   "source": [
    "Ni_bulk_e_coh = vasptools.e_coh(Ni_bulk_E, Ni_atom_E, Ni_bulk_n)"
   ]
  },
  {
   "cell_type": "markdown",
   "metadata": {},
   "source": [
    "#### Surface area"
   ]
  },
  {
   "cell_type": "code",
   "execution_count": 14,
   "metadata": {},
   "outputs": [],
   "source": [
    "Ni_slab_100_A  = Ni_slab_100.get_volume() / Ni_slab_100.get_cell()[2][2] "
   ]
  },
  {
   "cell_type": "markdown",
   "metadata": {},
   "source": [
    "#### Surface formation energy"
   ]
  },
  {
   "cell_type": "code",
   "execution_count": 15,
   "metadata": {},
   "outputs": [
    {
     "name": "stdout",
     "output_type": "stream",
     "text": [
      "Help on function e_surf_form in module ageo.vasptools:\n",
      "\n",
      "e_surf_form(e_t_surf, e_t_bulk, n_atoms_surf, n_atoms_bulk, area)\n",
      "    Calculate the surface formation energy per area of the surface.\n",
      "    \n",
      "    Keyword arguments:\n",
      "    e_t_surf -- total energy of the surface slab.\n",
      "    e_t_tbulk -- total energy of the bulk.\n",
      "    n_atoms_surf -- number fo atoms in the slab unit cell.\n",
      "    n_atoms bulk -- number of atoms in a bulk unit cell.\n",
      "    area -- area of the slab.\n",
      "\n"
     ]
    }
   ],
   "source": [
    "help(vasptools.e_surf_form)"
   ]
  },
  {
   "cell_type": "code",
   "execution_count": 16,
   "metadata": {},
   "outputs": [
    {
     "name": "stdout",
     "output_type": "stream",
     "text": [
      "0.1376240093166087\n"
     ]
    }
   ],
   "source": [
    "Ni_slab_100_Ef = vasptools.e_surf_form(Ni_slab_100_E, Ni_bulk_E, Ni_slab_100_n, Ni_bulk_n, Ni_slab_100_A)\n",
    "print(Ni_slab_100_Ef)"
   ]
  },
  {
   "cell_type": "markdown",
   "metadata": {},
   "source": [
    "#### Fermi energy"
   ]
  },
  {
   "cell_type": "code",
   "execution_count": 17,
   "metadata": {},
   "outputs": [],
   "source": [
    "# Using pymatgen to extract from the vasprun.xml file\n",
    "Ni_atom_Efermi = Ni_atom_xml.efermi\n",
    "\n",
    "Ni_bulk_Efermi = Ni_bulk_xml.efermi\n",
    "\n",
    "Ni_slab_100_Efermi = Ni_slab_100_xml.efermi"
   ]
  },
  {
   "cell_type": "markdown",
   "metadata": {},
   "source": [
    "#### d-band center"
   ]
  },
  {
   "cell_type": "code",
   "execution_count": 18,
   "metadata": {},
   "outputs": [
    {
     "name": "stdout",
     "output_type": "stream",
     "text": [
      "Help on function d_center in module ageo.vasptools:\n",
      "\n",
      "d_center(slab_xml, vac_pot_slab, fermi_slab)\n",
      "    Calculate the d-band center of a structure\n",
      "    \n",
      "    Keyword arguments:\n",
      "    slab_xml -- parsed vasprun.xml to be analysed.\n",
      "    vac_pot_slab -- vacuum potential of the slab, or the Fermi energy of the\n",
      "    slab.\n",
      "    fermi_slab -- fermi energy extracted from vasprun.xml.\n",
      "\n"
     ]
    }
   ],
   "source": [
    "help(vasptools.d_center)"
   ]
  },
  {
   "cell_type": "code",
   "execution_count": 19,
   "metadata": {},
   "outputs": [],
   "source": [
    "Ni_atom_d_center = vasptools.d_center(Ni_atom_xml, Ni_atom_Efermi, Ni_atom_Efermi)\n",
    "\n",
    "Ni_bulk_d_center = vasptools.d_center(Ni_bulk_xml, Ni_bulk_Efermi, Ni_bulk_Efermi)\n",
    "\n",
    "Ni_slab_100_d_center = vasptools.d_center(Ni_slab_100_xml, Ni_slab_100_Efermi, Ni_slab_100_Efermi)"
   ]
  },
  {
   "cell_type": "markdown",
   "metadata": {},
   "source": [
    "### Adding the results into the database"
   ]
  },
  {
   "cell_type": "code",
   "execution_count": 20,
   "metadata": {},
   "outputs": [],
   "source": [
    "#Grouping the data for each id\n",
    "Ni_atom_list = {\"e_fermi\" : Ni_atom_Efermi,\n",
    "                \"d_center\" : Ni_atom_d_center}\n",
    "\n",
    "Ni_bulk_list = {\"e_fermi\" : Ni_bulk_Efermi,\n",
    "                \"d_center\" : Ni_bulk_d_center,\n",
    "                \"e_cohesive\" : Ni_bulk_e_coh}\n",
    "\n",
    "Ni_slab_100_list = {\"e_fermi\" : Ni_slab_100_Efermi,\n",
    "                    \"d_center\" : Ni_slab_100_d_center,\n",
    "                    \"e_surf_form\" : Ni_slab_100_Ef}"
   ]
  },
  {
   "cell_type": "code",
   "execution_count": 21,
   "metadata": {},
   "outputs": [],
   "source": [
    "db = db.connect('project.db')"
   ]
  },
  {
   "cell_type": "code",
   "execution_count": 22,
   "metadata": {},
   "outputs": [
    {
     "data": {
      "text/plain": [
       "(1, 0)"
      ]
     },
     "execution_count": 22,
     "metadata": {},
     "output_type": "execute_result"
    }
   ],
   "source": [
    "db.update(1, e_fermi=Ni_atom_Efermi)\n",
    "db.update(1, d_center=Ni_atom_d_center)\n",
    "\n",
    "db.update(2, e_fermi=Ni_bulk_Efermi)\n",
    "db.update(2, d_center=Ni_bulk_d_center)\n",
    "db.update(2, e_cohesive=Ni_bulk_e_coh)\n",
    "\n",
    "db.update(3, e_fermi=Ni_slab_100_Efermi)\n",
    "db.update(3, d_center=Ni_slab_100_d_center)\n",
    "db.update(3, e_surf_form=Ni_slab_100_Ef)"
   ]
  },
  {
   "cell_type": "markdown",
   "metadata": {},
   "source": [
    "### Showing the final database"
   ]
  },
  {
   "cell_type": "code",
   "execution_count": 23,
   "metadata": {
    "scrolled": true
   },
   "outputs": [
    {
     "name": "stdout",
     "output_type": "stream",
     "text": [
      "id|formula|  energy|d_center|e_fermi|e_cohesive|e_surf_form\r\n",
      " 1|Ni     |  -0.545|  -1.045| -4.617|          |           \r\n",
      " 2|Ni4    | -21.883|  -1.982|  9.412|    -4.926|           \r\n",
      " 3|Ni112  |-585.447|  -1.884| -1.371|          |      0.138\r\n",
      "Rows: 3\r\n",
      "Keys: d_center, e_cohesive, e_fermi, e_surf_form, structure_path\r\n"
     ]
    }
   ],
   "source": [
    "!ase db 'project.db' -c id,formula,energy,d_center,e_fermi,e_cohesive,e_surf_form"
   ]
  }
 ],
 "metadata": {
  "kernelspec": {
   "display_name": "Python 2",
   "language": "python",
   "name": "python2"
  },
  "language_info": {
   "codemirror_mode": {
    "name": "ipython",
    "version": 2
   },
   "file_extension": ".py",
   "mimetype": "text/x-python",
   "name": "python",
   "nbconvert_exporter": "python",
   "pygments_lexer": "ipython2",
   "version": "2.7.14"
  }
 },
 "nbformat": 4,
 "nbformat_minor": 2
}
