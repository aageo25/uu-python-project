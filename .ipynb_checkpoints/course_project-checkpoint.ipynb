{
 "cells": [
  {
   "cell_type": "markdown",
   "metadata": {},
   "source": [
    "# Jupyter notebook for the course project\n",
    "\n",
    "In this notebook, I will exemplify the use of some functions and modules. \n",
    "\n",
    "The modules were developed as a tool to extract data from the outputs created by VASP (Vienna Ab-inition Simulation Package), and to create a database in the ASE format (Atomic Simulation Environment, see https://wiki.fysik.dtu.dk/ase/ase/db/db.html ).\n",
    "\n",
    "The code follows the PEP8 for syntax and PEP257 for documentation.\n",
    "\n",
    "## Modules and functions\n",
    "\n",
    "They are stored in the folder named \"MyPythonLibs\"\n",
    "\n",
    "The required python modules are:\n",
    "* ase\n",
    "* numpy\n",
    "* matplotlib\n",
    "* pymatgen"
   ]
  },
  {
   "cell_type": "markdown",
   "metadata": {},
   "source": [
    "## Required modules to import"
   ]
  },
  {
   "cell_type": "code",
   "execution_count": 1,
   "metadata": {},
   "outputs": [],
   "source": [
    "import sys\n",
    "import os\n",
    "import re\n",
    "import platform\n",
    "import notebook\n",
    "import ase\n",
    "import matplotlib\n",
    "import matplotlib.pyplot as plt\n",
    "import numpy as np"
   ]
  },
  {
   "cell_type": "markdown",
   "metadata": {},
   "source": [
    "### Specific functions"
   ]
  },
  {
   "cell_type": "code",
   "execution_count": 47,
   "metadata": {},
   "outputs": [],
   "source": [
    "from ase import db\n",
    "from ageo import dbtools, vasptools "
   ]
  },
  {
   "cell_type": "code",
   "execution_count": 3,
   "metadata": {},
   "outputs": [
    {
     "name": "stdout",
     "output_type": "stream",
     "text": [
      "Help on module ageo.dbtools in ageo:\n",
      "\n",
      "NAME\n",
      "    ageo.dbtools\n",
      "\n",
      "FILE\n",
      "    /home/ageo/MyPythonLibs/ageo/dbtools.py\n",
      "\n",
      "FUNCTIONS\n",
      "    add_vasp_structure(dbname, folder)\n",
      "        Add a VASP structure into a database.\n",
      "        \n",
      "        Keyword arguments:\n",
      "        dbname -- database filename\n",
      "        folder -- path with VASP outputs\n",
      "    \n",
      "    db_read_row(dbname, id)\n",
      "        Reads a specific row in a ASE database.\n",
      "        \n",
      "        Keyword arguments:\n",
      "        dbname -- database name.\n",
      "        id -- id number of the row to read.\n",
      "\n",
      "\n"
     ]
    }
   ],
   "source": [
    "help(dbtools)"
   ]
  },
  {
   "cell_type": "code",
   "execution_count": 4,
   "metadata": {},
   "outputs": [
    {
     "name": "stdout",
     "output_type": "stream",
     "text": [
      "Help on module ageo.vasptools in ageo:\n",
      "\n",
      "NAME\n",
      "    ageo.vasptools\n",
      "\n",
      "FILE\n",
      "    /home/ageo/MyPythonLibs/ageo/vasptools.py\n",
      "\n",
      "DESCRIPTION\n",
      "    #def convert:\n",
      "    #    \"\"\"usevul conversions in Computatuinal Chemsitry\n",
      "    #\n",
      "    #    e0 -- Vacuum permittivity constant C/V\n",
      "    #    ang2bohr -- Angsrom to bohr\n",
      "    #    au2D= 1./0.393430307 -- au to Debye\n",
      "    #    eV_a2au=0.0194469057312645 -- force conversion\n",
      "    #    ev_sqa2J_sqm -- eV/ANG2 to J/m2\n",
      "    #\n",
      "    #    \"\"\"\n",
      "    #    E0 = 0.00552635\n",
      "    #    ANG_TO_BOHR = 1./0.52917721\n",
      "    #    AU_TO_D = 1./0.393430307\n",
      "    #    eV_A_TO_AU = 0.0194469057312645\n",
      "    #    eV_SQ_ANG_TO_J_SQ_M = 1.60E-19 / 1E-020\n",
      "\n",
      "FUNCTIONS\n",
      "    d_center(slab_xml, vac_pot_slab, fermi_slab)\n",
      "        Calculate the d-band center of a structure\n",
      "        \n",
      "        Keyword arguments:\n",
      "        slab_xml -- parsed vasprun.xml to be analysed.\n",
      "        vac_pot_slab -- vacuum potential of the slab.\n",
      "        fermi_slab -- fermi energy extracted from vasprun.xml\n",
      "    \n",
      "    e_ads(n_ads, et_surf_ads, et_surf, et_ads)\n",
      "        \"Calculate the adsorption energy per atom\n",
      "        \n",
      "        Keyword arguments:\n",
      "        n_ads -- number of adsorbates in the supercell\n",
      "        et_surf_ads -- total energy of the system containing the surface and the\n",
      "        adsorbate\n",
      "        et_surf -- total energy of the system containing the clean slab\n",
      "        et_ads -- total energy of one atom/molecule of the adsorbate\n",
      "    \n",
      "    e_coh(e_bulk, e_atom, n_atom_bulk)\n",
      "        Calculate the cohesive energy of a bulk material.\n",
      "        \n",
      "        Keyword arguments:\n",
      "        e_bulk -- total energy of the bulk structure\n",
      "        e_atom -- total energy of a isolated atom\n",
      "        n_atom_bulk -- number of atoms in the bulk.\n",
      "    \n",
      "    read_vasprun(data)\n",
      "        Read the file vasprun.xml for further analysis using pymatgen\n",
      "    \n",
      "    wf(vac_pot, e_fermi)\n",
      "        Calculate the work function\n",
      "\n",
      "\n"
     ]
    }
   ],
   "source": [
    "help(vasptools)"
   ]
  },
  {
   "cell_type": "markdown",
   "metadata": {},
   "source": [
    "### Creating an ASE database"
   ]
  },
  {
   "cell_type": "code",
   "execution_count": 34,
   "metadata": {},
   "outputs": [],
   "source": [
    "# The database name\n",
    "dbname= \"project.db\"\n",
    "\n",
    "# Make sure you always have a new database when the first element is added\n",
    "try:\n",
    "    os.remove(dbname)\n",
    "except:\n",
    "    print()"
   ]
  },
  {
   "cell_type": "markdown",
   "metadata": {},
   "source": [
    "### Add VASP structure to the database"
   ]
  },
  {
   "cell_type": "code",
   "execution_count": 35,
   "metadata": {},
   "outputs": [
    {
     "name": "stdout",
     "output_type": "stream",
     "text": [
      "('Structure added with id:', 1)\n"
     ]
    }
   ],
   "source": [
    "# Isolated Ni atom\n",
    "row_id = dbtools.add_vasp_structure(dbname, \"/home/ageo/Documents/PhD_Documents/Courses/Adv_Sci_Python/Project/new_project/examples/Ni_atom/\")"
   ]
  },
  {
   "cell_type": "code",
   "execution_count": 36,
   "metadata": {},
   "outputs": [
    {
     "name": "stdout",
     "output_type": "stream",
     "text": [
      "('Structure added with id:', 2)\n",
      "('Structure added with id:', 3)\n"
     ]
    }
   ],
   "source": [
    "# Ni bulk\n",
    "row_id = dbtools.add_vasp_structure(dbname, \"/home/ageo/Documents/PhD_Documents/Courses/Adv_Sci_Python/Project/new_project/examples/Ni_bulk/\")\n",
    "\n",
    "# Ni slab 100\n",
    "row_id = dbtools.add_vasp_structure(dbname, \"/home/ageo/Documents/PhD_Documents/Courses/Adv_Sci_Python/Project/new_project/examples/Ni_slab_100/\")"
   ]
  },
  {
   "cell_type": "markdown",
   "metadata": {},
   "source": [
    "### Reading the atoms object from the database"
   ]
  },
  {
   "cell_type": "code",
   "execution_count": 38,
   "metadata": {},
   "outputs": [],
   "source": [
    "Ni_atom = dbtools.db_read_row(dbname,1)\n",
    "Ni_bulk = dbtools.db_read_row(dbname,2)\n",
    "Ni_slab_100 = dbtools.db_read_row(dbname,3)"
   ]
  },
  {
   "cell_type": "markdown",
   "metadata": {},
   "source": [
    "### Reading VASP xml files"
   ]
  },
  {
   "cell_type": "code",
   "execution_count": 43,
   "metadata": {},
   "outputs": [
    {
     "name": "stdout",
     "output_type": "stream",
     "text": [
      "<pymatgen.io.vasp.outputs.Vasprun object at 0x7f769b0412d0>\n",
      "<pymatgen.io.vasp.outputs.Vasprun object at 0x7f769b03ae50>\n",
      "<pymatgen.io.vasp.outputs.Vasprun object at 0x7f76aee4f650>\n"
     ]
    },
    {
     "name": "stderr",
     "output_type": "stream",
     "text": [
      "/home/ageo/.local/lib/python2.7/site-packages/pymatgen/io/vasp/outputs.py:154: UserWarning: Float overflow (*******) encountered in vasprun\n",
      "  warnings.warn('Float overflow (*******) encountered in vasprun')\n",
      "/home/ageo/.local/lib/python2.7/site-packages/pymatgen/io/vasp/outputs.py:877: UserWarning: No POTCAR file with matching TITEL fields was found in /home/ageo/Documents/PhD_Documents/Courses/Adv_Sci_Python/Project/new_project/examples/Ni_slab_100\n",
      "  \" was found in {}\".format(os.path.abspath(p)))\n"
     ]
    }
   ],
   "source": [
    "Ni_atom_xml = vasptools.read_vasprun(\"/home/ageo/Documents/PhD_Documents/Courses/Adv_Sci_Python/Project/new_project/examples/Ni_atom/vasprun.xml\")\n",
    "Ni_bulk_xml = vasptools.read_vasprun(\"/home/ageo/Documents/PhD_Documents/Courses/Adv_Sci_Python/Project/new_project/examples/Ni_bulk/vasprun.xml\")\n",
    "Ni_slab_100_xml = vasptools.read_vasprun(\"/home/ageo/Documents/PhD_Documents/Courses/Adv_Sci_Python/Project/new_project/examples/Ni_slab_100/vasprun.xml\")"
   ]
  },
  {
   "cell_type": "markdown",
   "metadata": {},
   "source": [
    "### Using ASE database to extract the needed information for further analisys"
   ]
  },
  {
   "cell_type": "code",
   "execution_count": 48,
   "metadata": {},
   "outputs": [
    {
     "data": {
      "text/plain": [
       "<ase.db.sqlite.SQLite3Database at 0x7f765f8df690>"
      ]
     },
     "execution_count": 48,
     "metadata": {},
     "output_type": "execute_result"
    }
   ],
   "source": [
    "db.connect('project.db')"
   ]
  },
  {
   "cell_type": "markdown",
   "metadata": {},
   "source": [
    "#### Extracting the total energy"
   ]
  },
  {
   "cell_type": "code",
   "execution_count": 54,
   "metadata": {},
   "outputs": [],
   "source": [
    "Ni_atom_E = Ni_atom.get_total_energy()\n",
    "\n",
    "Ni_bulk_E = Ni_bulk.get_total_energy()\n",
    "\n",
    "Ni_slab_100_E = Ni_slab_100.get_total_energy()"
   ]
  },
  {
   "cell_type": "markdown",
   "metadata": {},
   "source": [
    "#### Number of atoms"
   ]
  },
  {
   "cell_type": "code",
   "execution_count": 55,
   "metadata": {},
   "outputs": [],
   "source": [
    "Ni_atom_n = Ni_atom.get_number_of_atoms()\n",
    "\n",
    "Ni_bulk_n = Ni_bulk.get_number_of_atoms()\n",
    "\n",
    "Ni_slab_100_n = Ni_slab_100.get_number_of_atoms()"
   ]
  },
  {
   "cell_type": "markdown",
   "metadata": {},
   "source": [
    "#### Bulk cohesive energy"
   ]
  },
  {
   "cell_type": "code",
   "execution_count": 58,
   "metadata": {},
   "outputs": [
    {
     "name": "stdout",
     "output_type": "stream",
     "text": [
      "Help on function e_coh in module ageo.vasptools:\n",
      "\n",
      "e_coh(e_bulk, e_atom, n_atom_bulk)\n",
      "    Calculate the cohesive energy of a bulk material.\n",
      "    \n",
      "    Keyword arguments:\n",
      "    e_bulk -- total energy of the bulk structure\n",
      "    e_atom -- total energy of a isolated atom\n",
      "    n_atom_bulk -- number of atoms in the bulk.\n",
      "\n"
     ]
    }
   ],
   "source": [
    "help(vasptools.e_coh)"
   ]
  },
  {
   "cell_type": "code",
   "execution_count": 60,
   "metadata": {},
   "outputs": [
    {
     "name": "stdout",
     "output_type": "stream",
     "text": [
      "-4.9262200375\n"
     ]
    }
   ],
   "source": [
    "Ni_bulk_e_coh = vasptools.e_coh(Ni_bulk_E, Ni_atom_E, Ni_bulk_n)\n",
    "print(Ni_bulk_e_coh)"
   ]
  },
  {
   "cell_type": "markdown",
   "metadata": {},
   "source": [
    "#### Surface area"
   ]
  },
  {
   "cell_type": "code",
   "execution_count": 62,
   "metadata": {},
   "outputs": [],
   "source": [
    "Ni_slab_100_A  = Ni_slab_100.get_volume() / Ni_slab_100.get_cell()[2][2] "
   ]
  },
  {
   "cell_type": "markdown",
   "metadata": {},
   "source": [
    "#### Surface formation energy"
   ]
  },
  {
   "cell_type": "code",
   "execution_count": null,
   "metadata": {},
   "outputs": [],
   "source": [
    "help(vasptools.)"
   ]
  }
 ],
 "metadata": {
  "kernelspec": {
   "display_name": "Python 2",
   "language": "python",
   "name": "python2"
  },
  "language_info": {
   "codemirror_mode": {
    "name": "ipython",
    "version": 2
   },
   "file_extension": ".py",
   "mimetype": "text/x-python",
   "name": "python",
   "nbconvert_exporter": "python",
   "pygments_lexer": "ipython2",
   "version": "2.7.14"
  }
 },
 "nbformat": 4,
 "nbformat_minor": 2
}
